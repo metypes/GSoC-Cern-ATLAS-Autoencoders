{
 "cells": [
  {
   "cell_type": "markdown",
   "metadata": {},
   "source": [
    "In this notebook, we will run a ready-made network starting from some ATLAS data, which is already normalized. There is also an alternative to train the network from scratch.  "
   ]
  },
  {
   "cell_type": "markdown",
   "metadata": {},
   "source": [
    "## Look into the dataset"
   ]
  },
  {
   "cell_type": "markdown",
   "metadata": {},
   "source": [
    "First we need to make sure that Python 3.8 is used in the notebook. It is required in order to open this certain .pkl-file. "
   ]
  },
  {
   "cell_type": "code",
   "execution_count": 2,
   "metadata": {},
   "outputs": [
    {
     "name": "stderr",
     "output_type": "stream",
     "text": [
      "/home/mrd/Documents/atlas_cern_3_9/lib/python3.9/site-packages/torch/cuda/__init__.py:52: UserWarning: CUDA initialization: Found no NVIDIA driver on your system. Please check that you have an NVIDIA GPU and installed a driver from http://www.nvidia.com/Download/index.aspx (Triggered internally at  /pytorch/c10/cuda/CUDAFunctions.cpp:100.)\n",
      "  return torch._C._cuda_getDeviceCount() > 0\n"
     ]
    },
    {
     "data": {
      "text/plain": "'3.9.1 (default, Dec  8 2020, 07:51:42) \\n[GCC 10.2.0]'"
     },
     "execution_count": 2,
     "metadata": {},
     "output_type": "execute_result"
    }
   ],
   "source": [
    "import random\n",
    "import sys\n",
    "from fastai.data.core import DataLoaders\n",
    "sys.version"
   ]
  },
  {
   "cell_type": "markdown",
   "metadata": {},
   "source": [
    "We take a pickle dataset, and open into Pandas (after importing pandas). Note that you have to change the paths to the directory where your processed files are. "
   ]
  },
  {
   "cell_type": "code",
   "execution_count": 66,
   "metadata": {},
   "outputs": [
    {
     "ename": "ValueError",
     "evalue": "Incorrect values for phi found !!! (pt <= 20 GeV)",
     "output_type": "error",
     "traceback": [
      "\u001B[0;31m---------------------------------------------------------------------------\u001B[0m",
      "\u001B[0;31mValueError\u001B[0m                                Traceback (most recent call last)",
      "\u001B[0;32m<ipython-input-66-1e1d6ecc3ad1>\u001B[0m in \u001B[0;36m<module>\u001B[0;34m\u001B[0m\n\u001B[1;32m     52\u001B[0m \u001B[0;31m# Throw error for incorrect transverse momentum p_t <= 20 Giga electron volt  as Delphes would have done this already\u001B[0m\u001B[0;34m\u001B[0m\u001B[0;34m\u001B[0m\u001B[0;34m\u001B[0m\u001B[0m\n\u001B[1;32m     53\u001B[0m \u001B[0;32mif\u001B[0m \u001B[0mlen\u001B[0m\u001B[0;34m(\u001B[0m\u001B[0mclean_df\u001B[0m\u001B[0;34m.\u001B[0m\u001B[0mloc\u001B[0m\u001B[0;34m[\u001B[0m\u001B[0mclean_df\u001B[0m\u001B[0;34m[\u001B[0m\u001B[0;34m'pt'\u001B[0m\u001B[0;34m]\u001B[0m \u001B[0;34m<=\u001B[0m \u001B[0;36m20\u001B[0m\u001B[0;34m]\u001B[0m\u001B[0;34m)\u001B[0m \u001B[0;34m>\u001B[0m \u001B[0;36m0\u001B[0m\u001B[0;34m:\u001B[0m\u001B[0;34m\u001B[0m\u001B[0;34m\u001B[0m\u001B[0m\n\u001B[0;32m---> 54\u001B[0;31m    \u001B[0;32mraise\u001B[0m \u001B[0mValueError\u001B[0m\u001B[0;34m(\u001B[0m\u001B[0;34mf'Incorrect values for phi found !!! (pt <= 20 GeV)'\u001B[0m\u001B[0;34m)\u001B[0m\u001B[0;34m\u001B[0m\u001B[0;34m\u001B[0m\u001B[0m\n\u001B[0m\u001B[1;32m     55\u001B[0m \u001B[0;34m\u001B[0m\u001B[0m\n\u001B[1;32m     56\u001B[0m \u001B[0;31m# Now we shall split the data in 2 sets, training, testing we can randomly allocate lines accordingly with 80/20 method\u001B[0m\u001B[0;34m\u001B[0m\u001B[0;34m\u001B[0m\u001B[0;34m\u001B[0m\u001B[0m\n",
      "\u001B[0;31mValueError\u001B[0m: Incorrect values for phi found !!! (pt <= 20 GeV)"
     ]
    }
   ],
   "source": [
    "import pandas as pd\n",
    "\n",
    "# Change these paths to point to where you have stored the datasets. \n",
    "# train_path = '/Users/nallenallis/Documents/LTH/Exjobb/data/TLA_leadingJet_custom_normalized_train_80.pkl'\n",
    "# test_path = '/Users/nallenallis/Documents/LTH/Exjobb/data/TLA_leadingJet_custom_normalized_train_20.pkl'\n",
    "\n",
    "# Reads the .pkl-files with Pandas\n",
    "# train = pd.read_pickle(train_path)\n",
    "# test = pd.read_pickle(test_path)\n",
    "\n",
    "# Read accordingly\n",
    "main_df = pd.read_csv('./sample_data.csv', delimiter=';')\n",
    "# Parse only after event Id, process ID, MET and go directly into four-momentum jet particles\n",
    "df_parsed = main_df.iloc[:,5:]\n",
    "# parse only j-jet particles\n",
    "df_only_js = df_parsed.applymap(lambda x: x if 'j' in str(x) else None)\n",
    "\n",
    "def raise_(ex):\n",
    "    raise ex\n",
    "# Throw error for values with incompatible eta (pseudorapidity abs(eta)>=2.8), as Delphes would have done this already\n",
    "#df_parsed.applymap(lambda x: raise_(ValueError(f'Incorrect value for eta: {float(str(x).split(\",\")[3])}')) if abs(float(str(x).split(',')[3]))>=2.8 else x)\n",
    "# Throw error for incorrect transverse momentum p_t <= 20 Giga electron volt  as Delphes would have done this already\n",
    "#df_parsed.applymap(lambda x: raise_(ValueError(f'Incorrect value for Pt (transv. momentum): {float(str(x).split(\",\")[2])}')) if abs(float(str(x).split(',')[2]))<=20 else x)\n",
    "\n",
    "# Flip dataset into one column respectively 'Value'\n",
    "melted_js = df_parsed.melt(id_vars=[],\n",
    "        var_name=\"Object Type\", value_name=\"Value\")\n",
    "\n",
    "# Split dataset\n",
    "split_df = pd.DataFrame()\n",
    "split_df[['obj', 'E', 'pt', 'eta', 'phi']] = melted_js['Value'].str.split(pat=\",\", expand=True)\n",
    "\n",
    "# we could also check for total sum E_t and H_t<600 but it is trivial from the dataset these conditions are met\n",
    "# Filter out 'None' cells (invalid ones)\n",
    "notnull_df = split_df.loc[split_df['obj'].notnull()]\n",
    "# Reset indexes\n",
    "notnull_df = notnull_df.reset_index(drop=True)\n",
    "# Take 'Object' out as 'j' is normally in all sets\n",
    "clean_df = notnull_df.iloc[:,1:]\n",
    "# Convert values to float\n",
    "clean_df = clean_df.applymap(lambda x: float(x) if x else x)\n",
    "# Reduce Es and Phis to small floats for error carrying (computation rounding)\n",
    "clean_df['E'] = clean_df['E'] / 10**6\n",
    "clean_df['pt'] = clean_df['pt'] / 10**6\n",
    "# Throw error for values with incompatible eta (pseudorapidity abs(eta)>=2.8), as Delphes would have done this already\n",
    "# if len(clean_df.loc[abs(clean_df['eta']) >= 2.8]) > 0:\n",
    "#    raise ValueError(f'Incorrect values for eta found !!! (|eta|>=2.8)')\n",
    "# I may have interpreted data incorrectly as some etas appear ot go out of range from Delphas >=2.8 conditions as presented in paper\n",
    "\n",
    "\n",
    "\n",
    "# Throw error for incorrect transverse momentum p_t <= 20 Giga electron volt  as Delphes would have done this already\n",
    "if len(clean_df.loc[clean_df['pt'] <= 20]) > 0:\n",
    "   raise ValueError(f'Incorrect values for phi found !!! (pt <= 20 GeV)')\n",
    "\n",
    "# Now we shall split the data in 2 sets, training, testing we can randomly allocate lines accordingly with 80/20 method\n",
    "df_ll = len(clean_df)\n",
    "# Pre-Allocate random test/train row seq randomly at 80/20 typical split method\n",
    "r = list(range(df_ll))\n",
    "random.shuffle(r)\n",
    "radius = int(df_ll * 0.8)\n",
    "train_r = r[:radius]\n",
    "test_r = r[radius+1:]\n",
    "\n",
    "train = clean_df[clean_df.index.isin(train_r)]\n",
    "test = clean_df[clean_df.index.isin(test_r)]\n",
    "\n",
    "\n",
    "# To get an idea of the order of magnitude we are going to see in the plots we show the first elements\n",
    "# in the samples:\n",
    "print('Training sample:')\n",
    "print(train.head())\n",
    "\n",
    "print('\\n')\n",
    "\n",
    "print('Testing sample:')\n",
    "print(test.head())\n",
    "\n",
    "print('\\n')\n",
    "\n",
    "print('The number of entries in the training data:', len(train))\n",
    "print('The number of entries in the validation data:', len(test))"
   ]
  },
  {
   "cell_type": "markdown",
   "metadata": {},
   "source": [
    "Now we plot the data using the matplotlib library. The units reflect the normalization, but it's the shape that we care about. "
   ]
  },
  {
   "cell_type": "code",
   "execution_count": 45,
   "metadata": {},
   "outputs": [
    {
     "data": {
      "text/plain": "<Figure size 432x288 with 1 Axes>",
      "image/png": "[encoded data removed]"
     },
     "metadata": {
      "needs_background": "light"
     },
     "output_type": "display_data"
    },
    {
     "data": {
      "text/plain": "<Figure size 432x288 with 1 Axes>",
      "image/png": "[encoded data removed]"
     },
     "metadata": {
      "needs_background": "light"
     },
     "output_type": "display_data"
    },
    {
     "data": {
      "text/plain": "<Figure size 432x288 with 1 Axes>",
      "image/png": "[encoded data removed]"
     },
     "metadata": {
      "needs_background": "light"
     },
     "output_type": "display_data"
    },
    {
     "data": {
      "text/plain": "<Figure size 432x288 with 1 Axes>",
      "image/png": "[encoded data removed]"
     },
     "metadata": {
      "needs_background": "light"
     },
     "output_type": "display_data"
    }
   ],
   "source": [
    "import matplotlib.pyplot as plt\n",
    "\n",
    "unit_list = ['[log(GeV)]', '[rad/3]', '[rad/3]', '[log(GeV)]']\n",
    "variable_list = [r'$p_T$', r'$\\eta$', r'$\\phi$', r'$E$']\n",
    "\n",
    "# change 'm' to 'E'\n",
    "branches=[\"pt\",\"eta\",\"phi\",\"E\"]\n",
    "\n",
    "n_bins = 100\n",
    "\n",
    "for kk in range(0,4):\n",
    "    n_hist_data, bin_edges, _ = plt.hist(train[branches[kk]], color='gray', label='Input', alpha=1, bins=n_bins)\n",
    "    plt.xlabel(xlabel=variable_list[kk] + ' ' + unit_list[kk])\n",
    "    plt.ylabel('# of events')\n",
    "    #plt.savefig(\"fourmomentum_\"+branches[kk],dpi=300)\n",
    "    plt.show()"
   ]
  },
  {
   "cell_type": "markdown",
   "metadata": {},
   "source": [
    "## Setting up the network"
   ]
  },
  {
   "cell_type": "markdown",
   "metadata": {},
   "source": [
    "### Preparing the data"
   ]
  },
  {
   "cell_type": "markdown",
   "metadata": {},
   "source": [
    "Adding the two datasets as TensorDatasets to PyTorch (also loading all other classes we'll need later)"
   ]
  },
  {
   "cell_type": "code",
   "execution_count": 46,
   "metadata": {},
   "outputs": [],
   "source": [
    "import torch\n",
    "import torch.nn as nn\n",
    "import torch.optim as optim\n",
    "import torch.utils.data\n",
    "from torch.autograd import Variable\n",
    "torch.device = 'cpu'\n",
    "from torch.utils.data import TensorDataset\n",
    "from torch.utils.data import DataLoader\n",
    "\n",
    "from fastai import learner\n",
    "from fastai.data import core"
   ]
  },
  {
   "cell_type": "code",
   "execution_count": 75,
   "outputs": [],
   "source": [
    "# Set env for running torch training on pc\n",
    "# device = torch.device('cpu')\n",
    "# torch.backends.cudnn.benchmark = True"
   ],
   "metadata": {
    "collapsed": false,
    "pycharm": {
     "name": "#%%\n"
    }
   }
  },
  {
   "cell_type": "code",
   "execution_count": 49,
   "outputs": [],
   "source": [
    "train_x = train\n",
    "test_x = test\n",
    "train_y = train_x  # y = x since we are building an autoencoder\n",
    "test_y = test_x\n",
    "\n",
    "# Constructs a tensor object of the data and wraps them in a TensorDataset object.\n",
    "train_ds = TensorDataset(torch.tensor(train_x.values, dtype=torch.float), torch.tensor(train_y.values, dtype=torch.float))\n",
    "valid_ds = TensorDataset(torch.tensor(test_x.values, dtype=torch.float), torch.tensor(test_y.values, dtype=torch.float))"
   ],
   "metadata": {
    "collapsed": false,
    "pycharm": {
     "name": "#%%\n"
    }
   }
  },
  {
   "cell_type": "markdown",
   "metadata": {},
   "source": [
    "We now set things up to load the data, and we use a batch size that was optimized by previous students...note also that this is fastai v2, migration thanks to Jessica Lastow."
   ]
  },
  {
   "cell_type": "code",
   "execution_count": 50,
   "metadata": {},
   "outputs": [],
   "source": [
    "bs = 256\n",
    "\n",
    "# Converts the TensorDataset into a DataLoader object and combines into one DataLoaders object (a basic wrapper\n",
    "# around several DataLoader objects). \n",
    "train_dl = torch.utils.data.DataLoader(train_ds, batch_size=bs, shuffle=True)\n",
    "valid_dl = torch.utils.data.DataLoader(valid_ds, batch_size=bs * 2)\n",
    "dls = DataLoaders(train_dl, valid_dl)"
   ]
  },
  {
   "cell_type": "markdown",
   "metadata": {},
   "source": [
    "### Preparing the network"
   ]
  },
  {
   "cell_type": "markdown",
   "metadata": {},
   "source": [
    "Here we have an example network. Details aren't too important, as long as they match what was already trained for us...in this case we have a LeakyReLU, tanh activation function, and a number of layers that goes from 4 to 200 to 20 to 3 (number of features in the hidden layer that we pick for testing compression) and then back all the way to 4. "
   ]
  },
  {
   "cell_type": "code",
   "execution_count": 51,
   "metadata": {},
   "outputs": [
    {
     "data": {
      "text/plain": "AE_3D_200_LeakyReLU(\n  (en1): Linear(in_features=4, out_features=200, bias=True)\n  (en2): Linear(in_features=200, out_features=200, bias=True)\n  (en3): Linear(in_features=200, out_features=20, bias=True)\n  (en4): Linear(in_features=20, out_features=3, bias=True)\n  (de1): Linear(in_features=3, out_features=20, bias=True)\n  (de2): Linear(in_features=20, out_features=200, bias=True)\n  (de3): Linear(in_features=200, out_features=200, bias=True)\n  (de4): Linear(in_features=200, out_features=4, bias=True)\n  (tanh): Tanh()\n)"
     },
     "execution_count": 51,
     "metadata": {},
     "output_type": "execute_result"
    }
   ],
   "source": [
    "class AE_3D_200_LeakyReLU(nn.Module):\n",
    "    def __init__(self, n_features=4):\n",
    "        super(AE_3D_200_LeakyReLU, self).__init__()\n",
    "        self.en1 = nn.Linear(n_features, 200)\n",
    "        self.en2 = nn.Linear(200, 200)\n",
    "        self.en3 = nn.Linear(200, 20)\n",
    "        self.en4 = nn.Linear(20, 3)\n",
    "        self.de1 = nn.Linear(3, 20)\n",
    "        self.de2 = nn.Linear(20, 200)\n",
    "        self.de3 = nn.Linear(200, 200)\n",
    "        self.de4 = nn.Linear(200, n_features)\n",
    "        self.tanh = nn.Tanh()\n",
    "\n",
    "    def encode(self, x):\n",
    "        return self.en4(self.tanh(self.en3(self.tanh(self.en2(self.tanh(self.en1(x)))))))\n",
    "\n",
    "    def decode(self, x):\n",
    "        return self.de4(self.tanh(self.de3(self.tanh(self.de2(self.tanh(self.de1(self.tanh(x))))))))\n",
    "\n",
    "    def forward(self, x):\n",
    "        z = self.encode(x)\n",
    "        return self.decode(z)\n",
    "\n",
    "    def describe(self):\n",
    "        return 'in-200-200-20-3-20-200-200-out'\n",
    "\n",
    "#model = AE_3D_200_LeakyReLU().double()\n",
    "model = AE_3D_200_LeakyReLU()\n",
    "model.to('cpu')"
   ]
  },
  {
   "cell_type": "markdown",
   "metadata": {},
   "source": [
    "We now have to pick a loss function - MSE loss is appropriate for a compression autoencoder since it reflects the [(input-output)/input] physical quantity that we want to minimize. "
   ]
  },
  {
   "cell_type": "code",
   "execution_count": 65,
   "metadata": {},
   "outputs": [],
   "source": [
    "from fastai.metrics import mse\n",
    "\n",
    "loss_func = nn.MSELoss()\n",
    "\n",
    "#bn_wd = False  # Don't use weight decay for batchnorm layers\n",
    "#true_wd = True  # weight decay will be used for all optimizers\n",
    "wd = 1e-6\n",
    "\n",
    "recorder = learner.Recorder()\n",
    "learn = learner.Learner(dls=dls, model=model, wd=wd, loss_func=loss_func, cbs=recorder)\n",
    "\n",
    "#was:= learn = basic_train.Learner(data=db, model=model, loss_func=loss_func, wd=wd, callback_fns=ActivationStats, bn_wd=bn_wd, true_wd=true_wd)"
   ]
  },
  {
   "cell_type": "markdown",
   "metadata": {},
   "source": [
    "## Alternative 1: Running a pre-trained network"
   ]
  },
  {
   "cell_type": "markdown",
   "metadata": {},
   "source": [
    "Now we load the pre-trained network. "
   ]
  },
  {
   "cell_type": "code",
   "execution_count": 53,
   "metadata": {},
   "outputs": [
    {
     "name": "stderr",
     "output_type": "stream",
     "text": [
      "/home/mrd/Documents/atlas_cern_3_9/lib/python3.9/site-packages/fastai/learner.py:55: UserWarning: Could not load the optimizer state.\n",
      "  if with_opt: warn(\"Could not load the optimizer state.\")\n"
     ]
    },
    {
     "data": {
      "text/plain": "<fastai.learner.Learner at 0x7fd10b057670>"
     },
     "execution_count": 53,
     "metadata": {},
     "output_type": "execute_result"
    }
   ],
   "source": [
    "learn.load(\"4D_TLA_leading\")"
   ]
  },
  {
   "cell_type": "markdown",
   "metadata": {},
   "source": [
    "Then we evaluate the MSE on this network - it should be of the order of 0.001 or less if all has gone well...if it has not trained as well (note the pesky 0-mass peak above...) then it's going to be a bit higher."
   ]
  },
  {
   "cell_type": "code",
   "execution_count": 54,
   "metadata": {},
   "outputs": [
    {
     "data": {
      "text/plain": "(#1) [32362477568.0]"
     },
     "execution_count": 54,
     "metadata": {},
     "output_type": "execute_result"
    }
   ],
   "source": [
    "# torch.device('cpu')\n",
    "dls.device = 'cpu'\n",
    "learn.validate()"
   ]
  },
  {
   "cell_type": "markdown",
   "metadata": {},
   "source": [
    "## Alternative 2: Training a new network"
   ]
  },
  {
   "cell_type": "markdown",
   "metadata": {},
   "source": [
    "Instead of using a pre-trained network, an alternative is to train a new network and use that instead. "
   ]
  },
  {
   "cell_type": "markdown",
   "metadata": {},
   "source": [
    "First, we want to find the best learning rate. The learning rate is a hyper-paramater that sets how much the weights of the network will change each step with respect to the loss gradient.\n",
    "\n",
    "Then we plot the loss versus the learning rates. We're interested in finding a good order of magnitude of learning rate, so we plot with a log scale.\n",
    "\n",
    "A good value for the learning rates is then either:\n",
    "- one tenth of the minimum before the divergence\n",
    "- when the slope is the steepest"
   ]
  },
  {
   "cell_type": "code",
   "execution_count": 67,
   "metadata": {},
   "outputs": [
    {
     "name": "stdout",
     "output_type": "stream",
     "text": [
      "Learning rate with the minimum loss: 0.2290867567062378\n",
      "Learning rate with the steepest gradient: 7.585775847473997e-07\n"
     ]
    },
    {
     "data": {
      "text/plain": "<Figure size 432x288 with 1 Axes>",
      "image/png": "[encoded data removed]"
     },
     "metadata": {
      "needs_background": "light"
     },
     "output_type": "display_data"
    }
   ],
   "source": [
    "from fastai.callback import schedule\n",
    "# torch.device('cpu')\n",
    "# learn.to('cpu')\n",
    "lr_min, lr_steep = learn.lr_find()\n",
    "\n",
    "print('Learning rate with the minimum loss:', lr_min)\n",
    "print('Learning rate with the steepest gradient:', lr_steep)"
   ]
  },
  {
   "cell_type": "markdown",
   "metadata": {},
   "source": [
    "Now we want to run the training!\n",
    "\n",
    "User-chosen variables:\n",
    "- n_epoch: The number of epochs, i.e how many times the to run through all of the training data once (i.e the 1266046 entries, see cell 2)\n",
    "- lr: The learning rate. Either choose lr_min, lr_steep from above or set your own.\n"
   ]
  },
  {
   "cell_type": "code",
   "execution_count": 71,
   "metadata": {},
   "outputs": [
    {
     "name": "stdout",
     "output_type": "stream",
     "text": [
      "[0, 31949191168.0, 32255019008.0, '00:00']\n",
      "[0, 31949191168.0, 32255019008.0, '00:00']\n",
      "[1, 32029413376.0, 32235171840.0, '00:00']\n",
      "[1, 32029413376.0, 32235171840.0, '00:00']\n",
      "[2, 32123561984.0, 32209180672.0, '00:00']\n",
      "[2, 32123561984.0, 32209180672.0, '00:00']\n",
      "[3, 32005820416.0, 32174225408.0, '00:00']\n",
      "[3, 32005820416.0, 32174225408.0, '00:00']\n",
      "[4, 31899826176.0, 32127582208.0, '00:00']\n",
      "[4, 31899826176.0, 32127582208.0, '00:00']\n",
      "[5, 31844648960.0, 32066850816.0, '00:00']\n",
      "[5, 31844648960.0, 32066850816.0, '00:00']\n",
      "[6, 31999973376.0, 31989440512.0, '00:00']\n",
      "[6, 31999973376.0, 31989440512.0, '00:00']\n",
      "[7, 31529996288.0, 31893577728.0, '00:00']\n",
      "[7, 31529996288.0, 31893577728.0, '00:00']\n",
      "[8, 31285487616.0, 31778224128.0, '00:00']\n",
      "[8, 31285487616.0, 31778224128.0, '00:00']\n",
      "[9, 31643678720.0, 31641507840.0, '00:00']\n",
      "[9, 31643678720.0, 31641507840.0, '00:00']\n",
      "[10, 31340027904.0, 31482624000.0, '00:00']\n",
      "[10, 31340027904.0, 31482624000.0, '00:00']\n",
      "[11, 31413938176.0, 31301945344.0, '00:00']\n",
      "[11, 31413938176.0, 31301945344.0, '00:00']\n",
      "[12, 31029884928.0, 31099045888.0, '00:00']\n",
      "[12, 31029884928.0, 31099045888.0, '00:00']\n",
      "[13, 31035983872.0, 30875080704.0, '00:00']\n",
      "[13, 31035983872.0, 30875080704.0, '00:00']\n",
      "[14, 30561460224.0, 30630127616.0, '00:00']\n",
      "[14, 30561460224.0, 30630127616.0, '00:00']\n",
      "[15, 30421743616.0, 30366914560.0, '00:00']\n",
      "[15, 30421743616.0, 30366914560.0, '00:00']\n",
      "[16, 30470246400.0, 30086873088.0, '00:00']\n",
      "[16, 30470246400.0, 30086873088.0, '00:00']\n",
      "[17, 29702275072.0, 29791275008.0, '00:00']\n",
      "[17, 29702275072.0, 29791275008.0, '00:00']\n",
      "[18, 29521715200.0, 29482739712.0, '00:00']\n",
      "[18, 29521715200.0, 29482739712.0, '00:00']\n",
      "[19, 29378516992.0, 29163409408.0, '00:00']\n",
      "[19, 29378516992.0, 29163409408.0, '00:00']\n",
      "[20, 28713973760.0, 28837332992.0, '00:00']\n",
      "[20, 28713973760.0, 28837332992.0, '00:00']\n",
      "[21, 28690212864.0, 28506568704.0, '00:00']\n",
      "[21, 28690212864.0, 28506568704.0, '00:00']\n",
      "[22, 28035385344.0, 28172656640.0, '00:00']\n",
      "[22, 28035385344.0, 28172656640.0, '00:00']\n",
      "[23, 27715985408.0, 27839899648.0, '00:00']\n",
      "[23, 27715985408.0, 27839899648.0, '00:00']\n",
      "[24, 27529259008.0, 27509864448.0, '00:00']\n",
      "[24, 27529259008.0, 27509864448.0, '00:00']\n",
      "[25, 27036643328.0, 27186180096.0, '00:00']\n",
      "[25, 27036643328.0, 27186180096.0, '00:00']\n",
      "[26, 26899134464.0, 26867798016.0, '00:00']\n",
      "[26, 26899134464.0, 26867798016.0, '00:00']\n",
      "[27, 26441717760.0, 26555748352.0, '00:00']\n",
      "[27, 26441717760.0, 26555748352.0, '00:00']\n",
      "[28, 25909891072.0, 26250049536.0, '00:00']\n",
      "[28, 25909891072.0, 26250049536.0, '00:00']\n",
      "[29, 25697974272.0, 25951469568.0, '00:00']\n",
      "[29, 25697974272.0, 25951469568.0, '00:00']\n",
      "[30, 25698717696.0, 25659385856.0, '00:00']\n",
      "[30, 25698717696.0, 25659385856.0, '00:00']\n",
      "[31, 25526265856.0, 25373751296.0, '00:00']\n",
      "[31, 25526265856.0, 25373751296.0, '00:00']\n",
      "[32, 25152872448.0, 25095469056.0, '00:00']\n",
      "[32, 25152872448.0, 25095469056.0, '00:00']\n",
      "[33, 24902352896.0, 24824479744.0, '00:00']\n",
      "[33, 24902352896.0, 24824479744.0, '00:00']\n",
      "[34, 24525180928.0, 24561104896.0, '00:00']\n",
      "[34, 24525180928.0, 24561104896.0, '00:00']\n",
      "[35, 23859953664.0, 24304721920.0, '00:00']\n",
      "[35, 23859953664.0, 24304721920.0, '00:00']\n",
      "[36, 23497197568.0, 24056993792.0, '00:00']\n",
      "[36, 23497197568.0, 24056993792.0, '00:00']\n",
      "[37, 23799007232.0, 23816824832.0, '00:00']\n",
      "[37, 23799007232.0, 23816824832.0, '00:00']\n",
      "[38, 23495925760.0, 23582580736.0, '00:00']\n",
      "[38, 23495925760.0, 23582580736.0, '00:00']\n",
      "[39, 23566178304.0, 23356954624.0, '00:00']\n",
      "[39, 23566178304.0, 23356954624.0, '00:00']\n",
      "[40, 23370846208.0, 23138918400.0, '00:00']\n",
      "[40, 23370846208.0, 23138918400.0, '00:00']\n",
      "[41, 23124750336.0, 22927820800.0, '00:00']\n",
      "[41, 23124750336.0, 22927820800.0, '00:00']\n",
      "[42, 22430517248.0, 22723637248.0, '00:00']\n",
      "[42, 22430517248.0, 22723637248.0, '00:00']\n",
      "[43, 22305755136.0, 22529034240.0, '00:00']\n",
      "[43, 22305755136.0, 22529034240.0, '00:00']\n",
      "[44, 22248689664.0, 22339487744.0, '00:00']\n",
      "[44, 22248689664.0, 22339487744.0, '00:00']\n",
      "[45, 21820200960.0, 22158483456.0, '00:00']\n",
      "[45, 21820200960.0, 22158483456.0, '00:00']\n",
      "[46, 21786863616.0, 21984684032.0, '00:00']\n",
      "[46, 21786863616.0, 21984684032.0, '00:00']\n",
      "[47, 21924962304.0, 21818085376.0, '00:00']\n",
      "[47, 21924962304.0, 21818085376.0, '00:00']\n",
      "[48, 21667518464.0, 21657247744.0, '00:00']\n",
      "[48, 21667518464.0, 21657247744.0, '00:00']\n",
      "[49, 21478565888.0, 21504000000.0, '00:00']\n",
      "[49, 21478565888.0, 21504000000.0, '00:00']\n",
      "[50, 21041035264.0, 21357754368.0, '00:00']\n",
      "[50, 21041035264.0, 21357754368.0, '00:00']\n",
      "[51, 21076549632.0, 21217771520.0, '00:00']\n",
      "[51, 21076549632.0, 21217771520.0, '00:00']\n",
      "[52, 20961382400.0, 21084950528.0, '00:00']\n",
      "[52, 20961382400.0, 21084950528.0, '00:00']\n",
      "[53, 20935827456.0, 20957511680.0, '00:00']\n",
      "[53, 20935827456.0, 20957511680.0, '00:00']\n",
      "[54, 20669880320.0, 20836720640.0, '00:00']\n",
      "[54, 20669880320.0, 20836720640.0, '00:00']\n",
      "[55, 20504242176.0, 20721770496.0, '00:00']\n",
      "[55, 20504242176.0, 20721770496.0, '00:00']\n",
      "[56, 20175892480.0, 20612423680.0, '00:00']\n",
      "[56, 20175892480.0, 20612423680.0, '00:00']\n",
      "[57, 20242438144.0, 20509067264.0, '00:00']\n",
      "[57, 20242438144.0, 20509067264.0, '00:00']\n",
      "[58, 20387678208.0, 20410116096.0, '00:00']\n",
      "[58, 20387678208.0, 20410116096.0, '00:00']\n",
      "[59, 20413323264.0, 20316911616.0, '00:00']\n",
      "[59, 20413323264.0, 20316911616.0, '00:00']\n",
      "[60, 20063920128.0, 20228614144.0, '00:00']\n",
      "[60, 20063920128.0, 20228614144.0, '00:00']\n",
      "[61, 19989000192.0, 20145080320.0, '00:00']\n",
      "[61, 19989000192.0, 20145080320.0, '00:00']\n",
      "[62, 20045408256.0, 20066736128.0, '00:00']\n",
      "[62, 20045408256.0, 20066736128.0, '00:00']\n",
      "[63, 19903864832.0, 19992557568.0, '00:00']\n",
      "[63, 19903864832.0, 19992557568.0, '00:00']\n",
      "[64, 19628759040.0, 19922976768.0, '00:00']\n",
      "[64, 19628759040.0, 19922976768.0, '00:00']\n",
      "[65, 19715713024.0, 19857420288.0, '00:00']\n",
      "[65, 19715713024.0, 19857420288.0, '00:00']\n",
      "[66, 19969818624.0, 19796133888.0, '00:00']\n",
      "[66, 19969818624.0, 19796133888.0, '00:00']\n",
      "[67, 19806883840.0, 19738546176.0, '00:00']\n",
      "[67, 19806883840.0, 19738546176.0, '00:00']\n",
      "[68, 19339032576.0, 19684608000.0, '00:00']\n",
      "[68, 19339032576.0, 19684608000.0, '00:00']\n",
      "[69, 19177406464.0, 19634737152.0, '00:00']\n",
      "[69, 19177406464.0, 19634737152.0, '00:00']\n",
      "[70, 19324366848.0, 19588265984.0, '00:00']\n",
      "[70, 19324366848.0, 19588265984.0, '00:00']\n",
      "[71, 19350429696.0, 19545034752.0, '00:00']\n",
      "[71, 19350429696.0, 19545034752.0, '00:00']\n",
      "[72, 19483981824.0, 19504777216.0, '00:00']\n",
      "[72, 19483981824.0, 19504777216.0, '00:00']\n",
      "[73, 19411806208.0, 19467567104.0, '00:00']\n",
      "[73, 19411806208.0, 19467567104.0, '00:00']\n",
      "[74, 19210668032.0, 19432880128.0, '00:00']\n",
      "[74, 19210668032.0, 19432880128.0, '00:00']\n",
      "[75, 19013632000.0, 19401218048.0, '00:00']\n",
      "[75, 19013632000.0, 19401218048.0, '00:00']\n",
      "[76, 19003934720.0, 19372206080.0, '00:00']\n",
      "[76, 19003934720.0, 19372206080.0, '00:00']\n",
      "[77, 19167453184.0, 19345760256.0, '00:00']\n",
      "[77, 19167453184.0, 19345760256.0, '00:00']\n",
      "[78, 18899249152.0, 19321266176.0, '00:00']\n",
      "[78, 18899249152.0, 19321266176.0, '00:00']\n",
      "[79, 19010404352.0, 19299252224.0, '00:00']\n",
      "[79, 19010404352.0, 19299252224.0, '00:00']\n",
      "[80, 18807457792.0, 19279247360.0, '00:00']\n",
      "[80, 18807457792.0, 19279247360.0, '00:00']\n",
      "[81, 18945181696.0, 19261306880.0, '00:00']\n",
      "[81, 18945181696.0, 19261306880.0, '00:00']\n",
      "[82, 19078950912.0, 19245166592.0, '00:00']\n",
      "[82, 19078950912.0, 19245166592.0, '00:00']\n",
      "[83, 18905325568.0, 19230812160.0, '00:00']\n",
      "[83, 18905325568.0, 19230812160.0, '00:00']\n",
      "[84, 19150090240.0, 19218255872.0, '00:00']\n",
      "[84, 19150090240.0, 19218255872.0, '00:00']\n",
      "[85, 19173982208.0, 19207122944.0, '00:00']\n",
      "[85, 19173982208.0, 19207122944.0, '00:00']\n",
      "[86, 19020718080.0, 19197462528.0, '00:00']\n",
      "[86, 19020718080.0, 19197462528.0, '00:00']\n",
      "[87, 19012096000.0, 19189325824.0, '00:00']\n",
      "[87, 19012096000.0, 19189325824.0, '00:00']\n",
      "[88, 19036463104.0, 19182340096.0, '00:00']\n",
      "[88, 19036463104.0, 19182340096.0, '00:00']\n",
      "[89, 18868287488.0, 19176437760.0, '00:00']\n",
      "[89, 18868287488.0, 19176437760.0, '00:00']\n",
      "[90, 18948702208.0, 19171700736.0, '00:00']\n",
      "[90, 18948702208.0, 19171700736.0, '00:00']\n",
      "[91, 18826934272.0, 19167879168.0, '00:00']\n",
      "[91, 18826934272.0, 19167879168.0, '00:00']\n",
      "[92, 18862669824.0, 19164905472.0, '00:00']\n",
      "[92, 18862669824.0, 19164905472.0, '00:00']\n",
      "[93, 19026550784.0, 19162673152.0, '00:00']\n",
      "[93, 19026550784.0, 19162673152.0, '00:00']\n",
      "[94, 19041376256.0, 19161053184.0, '00:00']\n",
      "[94, 19041376256.0, 19161053184.0, '00:00']\n",
      "[95, 18724159488.0, 19159957504.0, '00:00']\n",
      "[95, 18724159488.0, 19159957504.0, '00:00']\n",
      "[96, 19030149120.0, 19159308288.0, '00:00']\n",
      "[96, 19030149120.0, 19159308288.0, '00:00']\n",
      "[97, 19225008128.0, 19158968320.0, '00:00']\n",
      "[97, 19225008128.0, 19158968320.0, '00:00']\n",
      "[98, 18898429952.0, 19158843392.0, '00:00']\n",
      "[98, 18898429952.0, 19158843392.0, '00:00']\n",
      "[99, 18764496896.0, 19158822912.0, '00:00']\n",
      "[99, 18764496896.0, 19158822912.0, '00:00']\n",
      "Training took 50.12962930905633 seconds\n"
     ]
    }
   ],
   "source": [
    "import time\n",
    "\n",
    "start = time.perf_counter() # Starts timer\n",
    "learn.fit_one_cycle(100, lr_min)\n",
    "end = time.perf_counter() # Ends timer\n",
    "delta_t = end - start\n",
    "print('Training took', delta_t, 'seconds')"
   ]
  },
  {
   "cell_type": "markdown",
   "metadata": {},
   "source": [
    "Then we plot the loss as a function of batches and epochs to check if we reach a plateau."
   ]
  },
  {
   "cell_type": "code",
   "execution_count": 72,
   "metadata": {},
   "outputs": [
    {
     "data": {
      "text/plain": "<Figure size 432x288 with 1 Axes>",
      "image/png": "[encoded data removed]"
     },
     "metadata": {
      "needs_background": "light"
     },
     "output_type": "display_data"
    }
   ],
   "source": [
    "recorder.plot_loss()"
   ]
  },
  {
   "cell_type": "markdown",
   "metadata": {},
   "source": [
    "Then we evaluate the MSE on this network - it should be of the order of 0.001 or less if all has gone well...if it has not trained as well (note the pesky 0-mass peak above...) then it's going to be a bit higher."
   ]
  },
  {
   "cell_type": "code",
   "execution_count": 73,
   "metadata": {},
   "outputs": [
    {
     "data": {
      "text/plain": "(#1) [19158822912.0]"
     },
     "execution_count": 73,
     "metadata": {},
     "output_type": "execute_result"
    }
   ],
   "source": [
    "learn.validate()"
   ]
  },
  {
   "cell_type": "markdown",
   "metadata": {},
   "source": [
    "Let's plot all of this, with ratios (thanks to code by Erik Wallin)"
   ]
  },
  {
   "cell_type": "markdown",
   "metadata": {},
   "source": [
    "## Plotting the outputs of the network"
   ]
  },
  {
   "cell_type": "markdown",
   "metadata": {},
   "source": [
    "Lazy-save of our output files (they'll also be on screen)"
   ]
  },
  {
   "cell_type": "code",
   "execution_count": 56,
   "metadata": {},
   "outputs": [],
   "source": [
    "import os\n",
    "save_dir = \"plotOutput\"\n",
    "if not os.path.exists(save_dir):\n",
    "    os.makedirs(save_dir)"
   ]
  },
  {
   "cell_type": "markdown",
   "metadata": {},
   "source": [
    "A function in case we want to un-normalize and get back to physical quantities..."
   ]
  },
  {
   "cell_type": "code",
   "execution_count": 58,
   "metadata": {},
   "outputs": [],
   "source": [
    "def custom_unnormalize(df):\n",
    "    df['eta'] = df['eta'] * 5\n",
    "    df['phi'] = df['phi'] * 3\n",
    "    # Reinflate\n",
    "    df['E'] = df['E'] * 10**6\n",
    "    #df['m'] = 10**df['m']\n",
    "    # Reinflate\n",
    "    df['pt'] = df['pt']* 10**6\n",
    "    return df"
   ]
  },
  {
   "cell_type": "markdown",
   "metadata": {},
   "source": [
    "Make the histograms from the dataset..."
   ]
  },
  {
   "cell_type": "code",
   "execution_count": 76,
   "metadata": {},
   "outputs": [
    {
     "data": {
      "text/plain": "<Figure size 432x288 with 1 Axes>",
      "image/png": "[encoded data removed]"
     },
     "metadata": {
      "needs_background": "light"
     },
     "output_type": "display_data"
    },
    {
     "data": {
      "text/plain": "<Figure size 432x288 with 1 Axes>",
      "image/png": "[encoded data removed]"
     },
     "metadata": {
      "needs_background": "light"
     },
     "output_type": "display_data"
    },
    {
     "data": {
      "text/plain": "<Figure size 432x288 with 1 Axes>",
      "image/png": "[encoded data removed]"
     },
     "metadata": {
      "needs_background": "light"
     },
     "output_type": "display_data"
    },
    {
     "data": {
      "text/plain": "<Figure size 432x288 with 1 Axes>",
      "image/png": "[encoded data removed]"
     },
     "metadata": {
      "needs_background": "light"
     },
     "output_type": "display_data"
    }
   ],
   "source": [
    "import numpy as np\n",
    "\n",
    "plt.close('all')\n",
    "unit_list = ['[GeV]', '[rad]', '[rad]', '[GeV]']\n",
    "variable_list = [r'$p_T$', r'$\\eta$', r'$\\phi$', r'$E$']\n",
    "line_style = ['--', '-']\n",
    "colors = ['orange', 'c']\n",
    "markers = ['*', 's']\n",
    "\n",
    "model.to('cpu')\n",
    "\n",
    "save = False # Option to save figure\n",
    "\n",
    "# Histograms\n",
    "idxs = (0, 100000)  # Choose events to compare\n",
    "data = torch.tensor(test[idxs[0]:idxs[1]].values, dtype=torch.float)\n",
    "#data = torch.tensor(test[idxs[0]:idxs[1]].values, dtype=torch.float).double()\n",
    "pred = model(data)\n",
    "pred = pred.detach().numpy()\n",
    "data = data.detach().numpy()\n",
    "\n",
    "data_df = pd.DataFrame(data, columns=test.columns)\n",
    "pred_df = pd.DataFrame(pred, columns=test.columns)\n",
    "\n",
    "unnormalized_data_df = custom_unnormalize(data_df)\n",
    "unnormalized_pred_df = custom_unnormalize(pred_df)    \n",
    "\n",
    "alph = 0.8\n",
    "n_bins = 200\n",
    "for kk in np.arange(4):\n",
    "    plt.figure()\n",
    "    n_hist_data, bin_edges, _ = plt.hist(data[:, kk], color=colors[1], label='Input', alpha=1, bins=n_bins)\n",
    "    n_hist_pred, _, _ = plt.hist(pred[:, kk], color=colors[0], label='Output', alpha=alph, bins=bin_edges)\n",
    "    plt.suptitle(test.columns[kk])\n",
    "    plt.xlabel(test.columns[kk])\n",
    "    plt.ylabel('Number of events')\n",
    "    # ms.sciy()\n",
    "    plt.yscale('log')\n",
    "    if save:\n",
    "        plt.savefig(os.path.join(save_dir,test.columns[kk]+'.png'))\n",
    "    plt.legend()"
   ]
  },
  {
   "cell_type": "code",
   "execution_count": 77,
   "metadata": {},
   "outputs": [
    {
     "name": "stdout",
     "output_type": "stream",
     "text": [
      "[None, None, None, None, None, None, None, None, None, None, None, None, None, None, None, None, None, None, None, None, None, None, None, None, None, None, None, None, None, None, None, None, None, None, None, None, None, None, None, None, None, None, None, None, None, None, None, None, None, None, None, None, None, None, None, None, None, None, None, None, None, None, None, None, None, None, None, None, None, None, None, None, None, None, None, None, None, None, None, None, None, None, None, None, None, None, None, None, None, None, None, None, None, None, None, None, None, None, None, None, 246.05263157894737, None, None, None, None, None, None, None, None, None, None, None, None, None, None, None, None, None, None, None, None, None, None, None, None, None, None, None, None, None, None, None, None, None, None, None, None, None, None, None, None, None, None, None, None, None, None, None, None, None, None, None, None, None, None, None, None, None, None, None, None, None, None, None, None, None, None, None, None, None, None, None, None, None, None, None, None, None, None, None, None, None, None, None, None, None, None, None, None, None, None, None, None, None, None, None, None, None, None, None]\n"
     ]
    }
   ],
   "source": [
    "def getRatio(bin1,bin2):\n",
    "    bins = []\n",
    "    for b1,b2 in zip(bin1,bin2):\n",
    "        if b1==0 and b2==0:\n",
    "            bins.append(0.)\n",
    "        elif b2==0:\n",
    "            bins.append(None)\n",
    "        else:\n",
    "            bins.append((float(b2)-float(b1))/b1)\n",
    "    return bins   \n",
    "\n",
    "rat = getRatio(n_hist_data,n_hist_pred)\n",
    "print(rat)"
   ]
  },
  {
   "cell_type": "code",
   "execution_count": 73,
   "metadata": {},
   "outputs": [],
   "source": []
  }
 ],
 "metadata": {
  "kernelspec": {
   "name": "pycharm-6b9ae80b",
   "language": "python",
   "display_name": "PyCharm (atlas_cern)"
  },
  "language_info": {
   "codemirror_mode": {
    "name": "ipython",
    "version": 3
   },
   "file_extension": ".py",
   "mimetype": "text/x-python",
   "name": "python",
   "nbconvert_exporter": "python",
   "pygments_lexer": "ipython3",
   "version": "3.8.6"
  }
 },
 "nbformat": 4,
 "nbformat_minor": 4
}